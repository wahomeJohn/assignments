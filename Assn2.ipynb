{
  "nbformat": 4,
  "nbformat_minor": 0,
  "metadata": {
    "colab": {
      "name": "Untitled14.ipynb",
      "provenance": [],
      "authorship_tag": "ABX9TyPJBPB7yKRMVMuYRDif/25y",
      "include_colab_link": true
    },
    "kernelspec": {
      "name": "python3",
      "display_name": "Python 3"
    },
    "language_info": {
      "name": "python"
    }
  },
  "cells": [
    {
      "cell_type": "markdown",
      "metadata": {
        "id": "view-in-github",
        "colab_type": "text"
      },
      "source": [
        "<a href=\"https://colab.research.google.com/github/wahomeJohn/assignments/blob/master/Assn2.ipynb\" target=\"_parent\"><img src=\"https://colab.research.google.com/assets/colab-badge.svg\" alt=\"Open In Colab\"/></a>"
      ]
    },
    {
      "cell_type": "code",
      "metadata": {
        "id": "DjpVcudhzuYm"
      },
      "source": [
        "import pandas as pd\n",
        "import numpy as np"
      ],
      "execution_count": null,
      "outputs": []
    },
    {
      "cell_type": "markdown",
      "metadata": {
        "id": "fq44M9s_0RWI"
      },
      "source": [
        "Load the data file\n"
      ]
    },
    {
      "cell_type": "code",
      "metadata": {
        "colab": {
          "base_uri": "https://localhost:8080/",
          "height": 1000
        },
        "id": "x5XupD9P0cXT",
        "outputId": "fba67e25-8772-40b4-83a9-3624eb1f68b4"
      },
      "source": [
        "data = pd.read_csv('/content/chidata_for_assignment.csv')\n",
        "data"
      ],
      "execution_count": null,
      "outputs": [
        {
          "output_type": "execute_result",
          "data": {
            "text/html": [
              "<div>\n",
              "<style scoped>\n",
              "    .dataframe tbody tr th:only-of-type {\n",
              "        vertical-align: middle;\n",
              "    }\n",
              "\n",
              "    .dataframe tbody tr th {\n",
              "        vertical-align: top;\n",
              "    }\n",
              "\n",
              "    .dataframe thead th {\n",
              "        text-align: right;\n",
              "    }\n",
              "</style>\n",
              "<table border=\"1\" class=\"dataframe\">\n",
              "  <thead>\n",
              "    <tr style=\"text-align: right;\">\n",
              "      <th></th>\n",
              "      <th>Gender</th>\n",
              "      <th>Insurance</th>\n",
              "    </tr>\n",
              "  </thead>\n",
              "  <tbody>\n",
              "    <tr>\n",
              "      <th>0</th>\n",
              "      <td>Male</td>\n",
              "      <td>Insurance</td>\n",
              "    </tr>\n",
              "    <tr>\n",
              "      <th>1</th>\n",
              "      <td>Female</td>\n",
              "      <td>No_Insurance</td>\n",
              "    </tr>\n",
              "    <tr>\n",
              "      <th>2</th>\n",
              "      <td>Male</td>\n",
              "      <td>Insurance</td>\n",
              "    </tr>\n",
              "    <tr>\n",
              "      <th>3</th>\n",
              "      <td>Female</td>\n",
              "      <td>No_Insurance</td>\n",
              "    </tr>\n",
              "    <tr>\n",
              "      <th>4</th>\n",
              "      <td>Male</td>\n",
              "      <td>Insurance</td>\n",
              "    </tr>\n",
              "    <tr>\n",
              "      <th>5</th>\n",
              "      <td>Male</td>\n",
              "      <td>Insurance</td>\n",
              "    </tr>\n",
              "    <tr>\n",
              "      <th>6</th>\n",
              "      <td>Male</td>\n",
              "      <td>Insurance</td>\n",
              "    </tr>\n",
              "    <tr>\n",
              "      <th>7</th>\n",
              "      <td>Male</td>\n",
              "      <td>Insurance</td>\n",
              "    </tr>\n",
              "    <tr>\n",
              "      <th>8</th>\n",
              "      <td>Male</td>\n",
              "      <td>Insurance</td>\n",
              "    </tr>\n",
              "    <tr>\n",
              "      <th>9</th>\n",
              "      <td>Male</td>\n",
              "      <td>Insurance</td>\n",
              "    </tr>\n",
              "    <tr>\n",
              "      <th>10</th>\n",
              "      <td>Male</td>\n",
              "      <td>Insurance</td>\n",
              "    </tr>\n",
              "    <tr>\n",
              "      <th>11</th>\n",
              "      <td>Female</td>\n",
              "      <td>No_Insurance</td>\n",
              "    </tr>\n",
              "    <tr>\n",
              "      <th>12</th>\n",
              "      <td>Male</td>\n",
              "      <td>Insurance</td>\n",
              "    </tr>\n",
              "    <tr>\n",
              "      <th>13</th>\n",
              "      <td>Female</td>\n",
              "      <td>Insurance</td>\n",
              "    </tr>\n",
              "    <tr>\n",
              "      <th>14</th>\n",
              "      <td>Male</td>\n",
              "      <td>Insurance</td>\n",
              "    </tr>\n",
              "    <tr>\n",
              "      <th>15</th>\n",
              "      <td>Female</td>\n",
              "      <td>Insurance</td>\n",
              "    </tr>\n",
              "    <tr>\n",
              "      <th>16</th>\n",
              "      <td>Male</td>\n",
              "      <td>Insurance</td>\n",
              "    </tr>\n",
              "    <tr>\n",
              "      <th>17</th>\n",
              "      <td>Female</td>\n",
              "      <td>Insurance</td>\n",
              "    </tr>\n",
              "    <tr>\n",
              "      <th>18</th>\n",
              "      <td>Male</td>\n",
              "      <td>Insurance</td>\n",
              "    </tr>\n",
              "    <tr>\n",
              "      <th>19</th>\n",
              "      <td>Female</td>\n",
              "      <td>Insurance</td>\n",
              "    </tr>\n",
              "    <tr>\n",
              "      <th>20</th>\n",
              "      <td>Male</td>\n",
              "      <td>Insurance</td>\n",
              "    </tr>\n",
              "    <tr>\n",
              "      <th>21</th>\n",
              "      <td>Female</td>\n",
              "      <td>Insurance</td>\n",
              "    </tr>\n",
              "    <tr>\n",
              "      <th>22</th>\n",
              "      <td>Male</td>\n",
              "      <td>Insurance</td>\n",
              "    </tr>\n",
              "    <tr>\n",
              "      <th>23</th>\n",
              "      <td>Female</td>\n",
              "      <td>Insurance</td>\n",
              "    </tr>\n",
              "    <tr>\n",
              "      <th>24</th>\n",
              "      <td>Male</td>\n",
              "      <td>No_Insurance</td>\n",
              "    </tr>\n",
              "    <tr>\n",
              "      <th>25</th>\n",
              "      <td>Female</td>\n",
              "      <td>No_Insurance</td>\n",
              "    </tr>\n",
              "    <tr>\n",
              "      <th>26</th>\n",
              "      <td>Male</td>\n",
              "      <td>No_Insurance</td>\n",
              "    </tr>\n",
              "    <tr>\n",
              "      <th>27</th>\n",
              "      <td>Female</td>\n",
              "      <td>No_Insurance</td>\n",
              "    </tr>\n",
              "    <tr>\n",
              "      <th>28</th>\n",
              "      <td>Male</td>\n",
              "      <td>No_Insurance</td>\n",
              "    </tr>\n",
              "    <tr>\n",
              "      <th>29</th>\n",
              "      <td>Female</td>\n",
              "      <td>No_Insurance</td>\n",
              "    </tr>\n",
              "    <tr>\n",
              "      <th>30</th>\n",
              "      <td>Female</td>\n",
              "      <td>Insurance</td>\n",
              "    </tr>\n",
              "    <tr>\n",
              "      <th>31</th>\n",
              "      <td>Male</td>\n",
              "      <td>Insurance</td>\n",
              "    </tr>\n",
              "    <tr>\n",
              "      <th>32</th>\n",
              "      <td>Female</td>\n",
              "      <td>Insurance</td>\n",
              "    </tr>\n",
              "    <tr>\n",
              "      <th>33</th>\n",
              "      <td>Male</td>\n",
              "      <td>Insurance</td>\n",
              "    </tr>\n",
              "    <tr>\n",
              "      <th>34</th>\n",
              "      <td>Female</td>\n",
              "      <td>Insurance</td>\n",
              "    </tr>\n",
              "    <tr>\n",
              "      <th>35</th>\n",
              "      <td>Female</td>\n",
              "      <td>No_Insurance</td>\n",
              "    </tr>\n",
              "    <tr>\n",
              "      <th>36</th>\n",
              "      <td>Female</td>\n",
              "      <td>No_Insurance</td>\n",
              "    </tr>\n",
              "    <tr>\n",
              "      <th>37</th>\n",
              "      <td>Female</td>\n",
              "      <td>No_Insurance</td>\n",
              "    </tr>\n",
              "    <tr>\n",
              "      <th>38</th>\n",
              "      <td>Female</td>\n",
              "      <td>No_Insurance</td>\n",
              "    </tr>\n",
              "    <tr>\n",
              "      <th>39</th>\n",
              "      <td>Female</td>\n",
              "      <td>No_Insurance</td>\n",
              "    </tr>\n",
              "    <tr>\n",
              "      <th>40</th>\n",
              "      <td>Female</td>\n",
              "      <td>No_Insurance</td>\n",
              "    </tr>\n",
              "    <tr>\n",
              "      <th>41</th>\n",
              "      <td>Female</td>\n",
              "      <td>No_Insurance</td>\n",
              "    </tr>\n",
              "    <tr>\n",
              "      <th>42</th>\n",
              "      <td>Female</td>\n",
              "      <td>No_Insurance</td>\n",
              "    </tr>\n",
              "    <tr>\n",
              "      <th>43</th>\n",
              "      <td>Male</td>\n",
              "      <td>Insurance</td>\n",
              "    </tr>\n",
              "    <tr>\n",
              "      <th>44</th>\n",
              "      <td>Female</td>\n",
              "      <td>No_Insurance</td>\n",
              "    </tr>\n",
              "    <tr>\n",
              "      <th>45</th>\n",
              "      <td>Male</td>\n",
              "      <td>Insurance</td>\n",
              "    </tr>\n",
              "    <tr>\n",
              "      <th>46</th>\n",
              "      <td>Female</td>\n",
              "      <td>No_Insurance</td>\n",
              "    </tr>\n",
              "    <tr>\n",
              "      <th>47</th>\n",
              "      <td>Male</td>\n",
              "      <td>Insurance</td>\n",
              "    </tr>\n",
              "    <tr>\n",
              "      <th>48</th>\n",
              "      <td>Female</td>\n",
              "      <td>No_Insurance</td>\n",
              "    </tr>\n",
              "  </tbody>\n",
              "</table>\n",
              "</div>"
            ],
            "text/plain": [
              "    Gender     Insurance\n",
              "0     Male     Insurance\n",
              "1   Female  No_Insurance\n",
              "2     Male     Insurance\n",
              "3   Female  No_Insurance\n",
              "4     Male     Insurance\n",
              "5     Male     Insurance\n",
              "6     Male     Insurance\n",
              "7     Male     Insurance\n",
              "8     Male     Insurance\n",
              "9     Male     Insurance\n",
              "10    Male     Insurance\n",
              "11  Female  No_Insurance\n",
              "12    Male     Insurance\n",
              "13  Female     Insurance\n",
              "14    Male     Insurance\n",
              "15  Female     Insurance\n",
              "16    Male     Insurance\n",
              "17  Female     Insurance\n",
              "18    Male     Insurance\n",
              "19  Female     Insurance\n",
              "20    Male     Insurance\n",
              "21  Female     Insurance\n",
              "22    Male     Insurance\n",
              "23  Female     Insurance\n",
              "24    Male  No_Insurance\n",
              "25  Female  No_Insurance\n",
              "26    Male  No_Insurance\n",
              "27  Female  No_Insurance\n",
              "28    Male  No_Insurance\n",
              "29  Female  No_Insurance\n",
              "30  Female     Insurance\n",
              "31    Male     Insurance\n",
              "32  Female     Insurance\n",
              "33    Male     Insurance\n",
              "34  Female     Insurance\n",
              "35  Female  No_Insurance\n",
              "36  Female  No_Insurance\n",
              "37  Female  No_Insurance\n",
              "38  Female  No_Insurance\n",
              "39  Female  No_Insurance\n",
              "40  Female  No_Insurance\n",
              "41  Female  No_Insurance\n",
              "42  Female  No_Insurance\n",
              "43    Male     Insurance\n",
              "44  Female  No_Insurance\n",
              "45    Male     Insurance\n",
              "46  Female  No_Insurance\n",
              "47    Male     Insurance\n",
              "48  Female  No_Insurance"
            ]
          },
          "metadata": {},
          "execution_count": 2
        }
      ]
    },
    {
      "cell_type": "markdown",
      "metadata": {
        "id": "w2ls6cNo1UDC"
      },
      "source": [
        " Display columns names"
      ]
    },
    {
      "cell_type": "code",
      "metadata": {
        "colab": {
          "base_uri": "https://localhost:8080/"
        },
        "id": "CqMzggCn1Wdo",
        "outputId": "ba907437-6442-477d-8f1d-e3127fd58cdc"
      },
      "source": [
        "print(data.columns)"
      ],
      "execution_count": null,
      "outputs": [
        {
          "output_type": "stream",
          "name": "stdout",
          "text": [
            "Index(['Gender', 'Insurance'], dtype='object')\n"
          ]
        }
      ]
    },
    {
      "cell_type": "markdown",
      "metadata": {
        "id": "McuZatLz1-0D"
      },
      "source": [
        "Print and display the column information\n"
      ]
    },
    {
      "cell_type": "code",
      "metadata": {
        "colab": {
          "base_uri": "https://localhost:8080/"
        },
        "id": "HWOehBFA2An2",
        "outputId": "5572b244-aa7c-45e9-a68b-542fc41776bf"
      },
      "source": [
        "column_data = data.iloc[:].values\n",
        "print(column_data)"
      ],
      "execution_count": null,
      "outputs": [
        {
          "output_type": "stream",
          "name": "stdout",
          "text": [
            "[['Male' 'Insurance']\n",
            " ['Female' 'No_Insurance']\n",
            " ['Male' 'Insurance']\n",
            " ['Female' 'No_Insurance']\n",
            " ['Male' 'Insurance']\n",
            " ['Male' 'Insurance']\n",
            " ['Male' 'Insurance']\n",
            " ['Male' 'Insurance']\n",
            " ['Male' 'Insurance']\n",
            " ['Male' 'Insurance']\n",
            " ['Male' 'Insurance']\n",
            " ['Female' 'No_Insurance']\n",
            " ['Male' 'Insurance']\n",
            " ['Female' 'Insurance']\n",
            " ['Male' 'Insurance']\n",
            " ['Female' 'Insurance']\n",
            " ['Male' 'Insurance']\n",
            " ['Female' 'Insurance']\n",
            " ['Male' 'Insurance']\n",
            " ['Female' 'Insurance']\n",
            " ['Male' 'Insurance']\n",
            " ['Female' 'Insurance']\n",
            " ['Male' 'Insurance']\n",
            " ['Female' 'Insurance']\n",
            " ['Male' 'No_Insurance']\n",
            " ['Female' 'No_Insurance']\n",
            " ['Male' 'No_Insurance']\n",
            " ['Female' 'No_Insurance']\n",
            " ['Male' 'No_Insurance']\n",
            " ['Female' 'No_Insurance']\n",
            " ['Female' 'Insurance']\n",
            " ['Male' 'Insurance']\n",
            " ['Female' 'Insurance']\n",
            " ['Male' 'Insurance']\n",
            " ['Female' 'Insurance']\n",
            " ['Female' 'No_Insurance']\n",
            " ['Female' 'No_Insurance']\n",
            " ['Female' 'No_Insurance']\n",
            " ['Female' 'No_Insurance']\n",
            " ['Female' 'No_Insurance']\n",
            " ['Female' 'No_Insurance']\n",
            " ['Female' 'No_Insurance']\n",
            " ['Female' 'No_Insurance']\n",
            " ['Male' 'Insurance']\n",
            " ['Female' 'No_Insurance']\n",
            " ['Male' 'Insurance']\n",
            " ['Female' 'No_Insurance']\n",
            " ['Male' 'Insurance']\n",
            " ['Female' 'No_Insurance']]\n"
          ]
        }
      ]
    },
    {
      "cell_type": "markdown",
      "metadata": {
        "id": "ZxzHFYJQ7Kpx"
      },
      "source": [
        "Print out the first 10 records"
      ]
    },
    {
      "cell_type": "code",
      "metadata": {
        "colab": {
          "base_uri": "https://localhost:8080/",
          "height": 356
        },
        "id": "8mHnvOF_7Nlu",
        "outputId": "1cc5db70-da38-434e-946d-fbc2352aa84c"
      },
      "source": [
        "data.head(10)"
      ],
      "execution_count": null,
      "outputs": [
        {
          "output_type": "execute_result",
          "data": {
            "text/html": [
              "<div>\n",
              "<style scoped>\n",
              "    .dataframe tbody tr th:only-of-type {\n",
              "        vertical-align: middle;\n",
              "    }\n",
              "\n",
              "    .dataframe tbody tr th {\n",
              "        vertical-align: top;\n",
              "    }\n",
              "\n",
              "    .dataframe thead th {\n",
              "        text-align: right;\n",
              "    }\n",
              "</style>\n",
              "<table border=\"1\" class=\"dataframe\">\n",
              "  <thead>\n",
              "    <tr style=\"text-align: right;\">\n",
              "      <th></th>\n",
              "      <th>Gender</th>\n",
              "      <th>Insurance</th>\n",
              "    </tr>\n",
              "  </thead>\n",
              "  <tbody>\n",
              "    <tr>\n",
              "      <th>0</th>\n",
              "      <td>Male</td>\n",
              "      <td>Insurance</td>\n",
              "    </tr>\n",
              "    <tr>\n",
              "      <th>1</th>\n",
              "      <td>Female</td>\n",
              "      <td>No_Insurance</td>\n",
              "    </tr>\n",
              "    <tr>\n",
              "      <th>2</th>\n",
              "      <td>Male</td>\n",
              "      <td>Insurance</td>\n",
              "    </tr>\n",
              "    <tr>\n",
              "      <th>3</th>\n",
              "      <td>Female</td>\n",
              "      <td>No_Insurance</td>\n",
              "    </tr>\n",
              "    <tr>\n",
              "      <th>4</th>\n",
              "      <td>Male</td>\n",
              "      <td>Insurance</td>\n",
              "    </tr>\n",
              "    <tr>\n",
              "      <th>5</th>\n",
              "      <td>Male</td>\n",
              "      <td>Insurance</td>\n",
              "    </tr>\n",
              "    <tr>\n",
              "      <th>6</th>\n",
              "      <td>Male</td>\n",
              "      <td>Insurance</td>\n",
              "    </tr>\n",
              "    <tr>\n",
              "      <th>7</th>\n",
              "      <td>Male</td>\n",
              "      <td>Insurance</td>\n",
              "    </tr>\n",
              "    <tr>\n",
              "      <th>8</th>\n",
              "      <td>Male</td>\n",
              "      <td>Insurance</td>\n",
              "    </tr>\n",
              "    <tr>\n",
              "      <th>9</th>\n",
              "      <td>Male</td>\n",
              "      <td>Insurance</td>\n",
              "    </tr>\n",
              "  </tbody>\n",
              "</table>\n",
              "</div>"
            ],
            "text/plain": [
              "   Gender     Insurance\n",
              "0    Male     Insurance\n",
              "1  Female  No_Insurance\n",
              "2    Male     Insurance\n",
              "3  Female  No_Insurance\n",
              "4    Male     Insurance\n",
              "5    Male     Insurance\n",
              "6    Male     Insurance\n",
              "7    Male     Insurance\n",
              "8    Male     Insurance\n",
              "9    Male     Insurance"
            ]
          },
          "metadata": {},
          "execution_count": 10
        }
      ]
    },
    {
      "cell_type": "markdown",
      "metadata": {
        "id": "86HG6aKI-FBK"
      },
      "source": [
        "Generate a count plot for gender"
      ]
    },
    {
      "cell_type": "code",
      "metadata": {
        "colab": {
          "base_uri": "https://localhost:8080/",
          "height": 301
        },
        "id": "Q11x4vzI86kR",
        "outputId": "e8e20561-5a90-4a4b-f12b-9cf5150bb288"
      },
      "source": [
        "import seaborn as sns\n",
        "sns.set_theme(style=\"darkgrid\")\n",
        "ax = sns.countplot(x=\"Gender\", data=data).set_title(\"count by gender\")"
      ],
      "execution_count": 23,
      "outputs": [
        {
          "output_type": "display_data",
          "data": {
            "image/png": "[encoded data removed]",
            "text/plain": [
              "<Figure size 432x288 with 1 Axes>"
            ]
          },
          "metadata": {}
        }
      ]
    },
    {
      "cell_type": "markdown",
      "metadata": {
        "id": "7rzF78ek-LMg"
      },
      "source": [
        "Generate a count plot for Insurance"
      ]
    },
    {
      "cell_type": "code",
      "metadata": {
        "colab": {
          "base_uri": "https://localhost:8080/",
          "height": 302
        },
        "id": "Bma0zh5V-NdU",
        "outputId": "4ca6094a-e76c-4c5e-c5c5-56fceeaec7ec"
      },
      "source": [
        "sns.set_theme(style=\"darkgrid\")\n",
        "ax = sns.countplot(x=\"Insurance\", data=data).set_title(\"count by Insurance\")\n"
      ],
      "execution_count": 22,
      "outputs": [
        {
          "output_type": "display_data",
          "data": {
            "image/png": "[encoded data removed]",
            "text/plain": [
              "<Figure size 432x288 with 1 Axes>"
            ]
          },
          "metadata": {}
        }
      ]
    },
    {
      "cell_type": "markdown",
      "metadata": {
        "id": "axrauchoAS4v"
      },
      "source": [
        "Contingency cross table of the two data files"
      ]
    },
    {
      "cell_type": "code",
      "metadata": {
        "colab": {
          "base_uri": "https://localhost:8080/",
          "height": 172
        },
        "id": "qBOrl90AAVDP",
        "outputId": "3d6b5420-938d-4ac8-fabf-8eee215a4bcd"
      },
      "source": [
        "mycross_table = pd.crosstab(data['Gender'],data['Insurance'], margins= True)\n",
        "mycross_table"
      ],
      "execution_count": null,
      "outputs": [
        {
          "output_type": "execute_result",
          "data": {
            "text/html": [
              "<div>\n",
              "<style scoped>\n",
              "    .dataframe tbody tr th:only-of-type {\n",
              "        vertical-align: middle;\n",
              "    }\n",
              "\n",
              "    .dataframe tbody tr th {\n",
              "        vertical-align: top;\n",
              "    }\n",
              "\n",
              "    .dataframe thead th {\n",
              "        text-align: right;\n",
              "    }\n",
              "</style>\n",
              "<table border=\"1\" class=\"dataframe\">\n",
              "  <thead>\n",
              "    <tr style=\"text-align: right;\">\n",
              "      <th>Insurance</th>\n",
              "      <th>Insurance</th>\n",
              "      <th>No_Insurance</th>\n",
              "      <th>All</th>\n",
              "    </tr>\n",
              "    <tr>\n",
              "      <th>Gender</th>\n",
              "      <th></th>\n",
              "      <th></th>\n",
              "      <th></th>\n",
              "    </tr>\n",
              "  </thead>\n",
              "  <tbody>\n",
              "    <tr>\n",
              "      <th>Female</th>\n",
              "      <td>9</td>\n",
              "      <td>17</td>\n",
              "      <td>26</td>\n",
              "    </tr>\n",
              "    <tr>\n",
              "      <th>Male</th>\n",
              "      <td>20</td>\n",
              "      <td>3</td>\n",
              "      <td>23</td>\n",
              "    </tr>\n",
              "    <tr>\n",
              "      <th>All</th>\n",
              "      <td>29</td>\n",
              "      <td>20</td>\n",
              "      <td>49</td>\n",
              "    </tr>\n",
              "  </tbody>\n",
              "</table>\n",
              "</div>"
            ],
            "text/plain": [
              "Insurance  Insurance  No_Insurance  All\n",
              "Gender                                 \n",
              "Female             9            17   26\n",
              "Male              20             3   23\n",
              "All               29            20   49"
            ]
          },
          "metadata": {},
          "execution_count": 16
        }
      ]
    },
    {
      "cell_type": "markdown",
      "metadata": {
        "id": "HEEzWY0kCgnX"
      },
      "source": [
        "a heatmap for the contingency cross table"
      ]
    },
    {
      "cell_type": "code",
      "metadata": {
        "colab": {
          "base_uri": "https://localhost:8080/",
          "height": 302
        },
        "id": "Sr0BoFxqClDW",
        "outputId": "bda1e35f-17e2-499b-9f24-f86a8aa1d9d7"
      },
      "source": [
        "sns.heatmap(mycross_table, annot=True,cmap = 'BrBG')"
      ],
      "execution_count": null,
      "outputs": [
        {
          "output_type": "execute_result",
          "data": {
            "text/plain": [
              "<matplotlib.axes._subplots.AxesSubplot at 0x7efffa0ac690>"
            ]
          },
          "metadata": {},
          "execution_count": 20
        },
        {
          "output_type": "display_data",
          "data": {
            "image/png": "[encoded data removed]",
            "text/plain": [
              "<Figure size 432x288 with 2 Axes>"
            ]
          },
          "metadata": {}
        }
      ]
    },
    {
      "cell_type": "markdown",
      "metadata": {
        "id": "8a30Cx5DCgJa"
      },
      "source": [
        ""
      ]
    }
  ]
}